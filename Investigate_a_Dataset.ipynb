{
 "cells": [
  {
   "cell_type": "markdown",
   "metadata": {},
   "source": [
    "> **Tip**: Welcome to the Investigate a Dataset project! You will find tips in quoted sections like this to help organize your approach to your investigation. Once you complete this project, remove these **Tip** sections from your report before submission. First things first, you might want to double-click this Markdown cell and change the title so that it reflects your dataset and investigation.\n",
    "\n",
    "# Project: Investigate a Dataset - [Dataset-name]\n",
    "\n",
    "## Table of Contents\n",
    "<ul>\n",
    "<li><a href=\"#intro\">Introduction</a></li>\n",
    "<li><a href=\"#wrangling\">Data Wrangling</a></li>\n",
    "<li><a href=\"#eda\">Exploratory Data Analysis</a></li>\n",
    "<li><a href=\"#conclusions\">Conclusions</a></li>\n",
    "</ul>"
   ]
  },
  {
   "cell_type": "markdown",
   "metadata": {},
   "source": [
    "<a id='intro'></a>\n",
    "## Introduction\n",
    "\n",
    "### Dataset Description \n",
    "\n",
    "> **Tip**: In this section of the report, provide a brief introduction to the dataset you've selected/downloaded for analysis. Read through the description available on the homepage-links present [here](https://docs.google.com/document/d/e/2PACX-1vTlVmknRRnfy_4eTrjw5hYGaiQim5ctr9naaRd4V9du2B5bxpd8FEH3KtDgp8qVekw7Cj1GLk1IXdZi/pub?embedded=True). List all column names in each table, and their significance. In case of multiple tables, describe the relationship between tables. \n",
    "\n",
    "> I chose Medical Appointment No Shows dataset, which shows data of 110,527 patients inlcuding whether they showed up for their appointments or no, the dataset is designed to indicate which factors might affect showing up for medical appointments.\n",
    "\n",
    "> 01 - PatientId: Identification of a patient  (Insignificant)\n",
    " \n",
    "> 02 - AppointmentID: Identification of each appointment (Insignificant)\n",
    "\n",
    "> 03 - Gender\n",
    "Male or Female . Female is the greater proportion, woman takes way more care of they health in comparison to man.\n",
    "\n",
    "> 04 - Appointment_Day\n",
    "The day of the actuall appointment, when they have to visit the doctor.\n",
    "\n",
    "> 05 - Scheduled_Day\n",
    "The day someone called or registered the appointment, this is before appointment of course.\n",
    "\n",
    "> 06 - Age: How old is the patient.\n",
    "\n",
    "> 07 - Neighbourhood: Where the appointment takes place. (Insignificant)\n",
    "\n",
    "> 08 - Scholarship: True of False. A scholarship that was provided by Brazilian Government. (Insignificant)\n",
    "\n",
    "> 09 - Hipertension: True or False\n",
    "\n",
    "> 10 - Diabetes: True or False\n",
    "\n",
    "> 11 - Alcoholism: True or False\n",
    "\n",
    "> 12 - Handicap: True or False\n",
    "\n",
    "> 13 - SMS_received: 1 or more messages sent to the patient.\n",
    "\n",
    "\n",
    "### Question(s) for Analysis\n",
    "> Exploring Effect of chosen variables on the Variable (No_show) that shows whether a person showed up for medical appointment or no\n",
    "\n",
    "> 1. Does Gender Affect Showing up For Appointments\n",
    "\n",
    "> 2. Does Age Affect Showing up For Appointments\n",
    "\n",
    "> 3. Does Hipertension Affect Showing up For Appointments\n",
    "\n",
    "> 4. Does Being Diabetic Affect Showing up For Appointments\n",
    "\n",
    "> 5. Does Difference in Days Affect Showing up For Appointments\n",
    "    <i> (Diffence Between Appointment Day And Scheduled Day) </i>\n",
    "\n",
    "> 6. Does Alcolholism Affect Showing up For Appointments\n",
    "\n",
    "> 7. Does Receiving an SMS Affect Showing up For Appointments\n",
    "\n",
    "> 8. Does Having a Handicap Affect Showing Up For Appointments"
   ]
  },
  {
   "cell_type": "code",
   "execution_count": 371,
   "metadata": {},
   "outputs": [],
   "source": [
    "# Use this cell to set up import statements for all of the packages that you\n",
    "#   plan to use.\n",
    "import pandas as pd\n",
    "import numpy as np\n",
    "import matplotlib.pyplot as plt\n",
    "import seaborn as sns\n",
    "from scipy import stats\n",
    "% matplotlib inline\n",
    "\n"
   ]
  },
  {
   "cell_type": "code",
   "execution_count": 372,
   "metadata": {},
   "outputs": [],
   "source": [
    "# Upgrade pandas to use dataframe.explode() function. \n",
    "#!pip install --upgrade pandas==0.25.0"
   ]
  },
  {
   "cell_type": "code",
   "execution_count": 373,
   "metadata": {},
   "outputs": [
    {
     "ename": "SyntaxError",
     "evalue": "invalid syntax (<ipython-input-373-f2c56bac56be>, line 1)",
     "output_type": "error",
     "traceback": [
      "\u001b[0;36m  File \u001b[0;32m\"<ipython-input-373-f2c56bac56be>\"\u001b[0;36m, line \u001b[0;32m1\u001b[0m\n\u001b[0;31m    <a id='wrangling'></a>\u001b[0m\n\u001b[0m    ^\u001b[0m\n\u001b[0;31mSyntaxError\u001b[0m\u001b[0;31m:\u001b[0m invalid syntax\n"
     ]
    }
   ],
   "source": [
    "<a id='wrangling'></a>\n",
    "## Data Wrangling\n",
    "\n",
    "> **Tip**: In this section of the report, you will load in the data, check for cleanliness, and then trim and clean your dataset for analysis. Make sure that you **document your data cleaning steps in mark-down cells precisely and justify your cleaning decisions.**\n",
    "\n",
    "\n",
    "### General Properties\n",
    "> **Tip**: You should _not_ perform too many operations in each cell. Create cells freely to explore your data. One option that you can take with this project is to do a lot of explorations in an initial notebook. These don't have to be organized, but make sure you use enough comments to understand the purpose of each code cell. Then, after you're done with your analysis, create a duplicate notebook where you will trim the excess and organize your steps so that you have a flowing, cohesive report."
   ]
  },
  {
   "cell_type": "code",
   "execution_count": 374,
   "metadata": {},
   "outputs": [
    {
     "data": {
      "text/html": [
       "<div>\n",
       "<style scoped>\n",
       "    .dataframe tbody tr th:only-of-type {\n",
       "        vertical-align: middle;\n",
       "    }\n",
       "\n",
       "    .dataframe tbody tr th {\n",
       "        vertical-align: top;\n",
       "    }\n",
       "\n",
       "    .dataframe thead th {\n",
       "        text-align: right;\n",
       "    }\n",
       "</style>\n",
       "<table border=\"1\" class=\"dataframe\">\n",
       "  <thead>\n",
       "    <tr style=\"text-align: right;\">\n",
       "      <th></th>\n",
       "      <th>PatientId</th>\n",
       "      <th>AppointmentID</th>\n",
       "      <th>Gender</th>\n",
       "      <th>ScheduledDay</th>\n",
       "      <th>AppointmentDay</th>\n",
       "      <th>Age</th>\n",
       "      <th>Neighbourhood</th>\n",
       "      <th>Scholarship</th>\n",
       "      <th>Hipertension</th>\n",
       "      <th>Diabetes</th>\n",
       "      <th>Alcoholism</th>\n",
       "      <th>Handcap</th>\n",
       "      <th>SMS_received</th>\n",
       "      <th>No-show</th>\n",
       "    </tr>\n",
       "  </thead>\n",
       "  <tbody>\n",
       "    <tr>\n",
       "      <th>0</th>\n",
       "      <td>2.987250e+13</td>\n",
       "      <td>5642903</td>\n",
       "      <td>F</td>\n",
       "      <td>2016-04-29T18:38:08Z</td>\n",
       "      <td>2016-04-29T00:00:00Z</td>\n",
       "      <td>62</td>\n",
       "      <td>JARDIM DA PENHA</td>\n",
       "      <td>0</td>\n",
       "      <td>1</td>\n",
       "      <td>0</td>\n",
       "      <td>0</td>\n",
       "      <td>0</td>\n",
       "      <td>0</td>\n",
       "      <td>No</td>\n",
       "    </tr>\n",
       "  </tbody>\n",
       "</table>\n",
       "</div>"
      ],
      "text/plain": [
       "      PatientId  AppointmentID Gender          ScheduledDay  \\\n",
       "0  2.987250e+13        5642903      F  2016-04-29T18:38:08Z   \n",
       "\n",
       "         AppointmentDay  Age    Neighbourhood  Scholarship  Hipertension  \\\n",
       "0  2016-04-29T00:00:00Z   62  JARDIM DA PENHA            0             1   \n",
       "\n",
       "   Diabetes  Alcoholism  Handcap  SMS_received No-show  \n",
       "0         0           0        0             0      No  "
      ]
     },
     "execution_count": 374,
     "metadata": {},
     "output_type": "execute_result"
    }
   ],
   "source": [
    "# Load your data and print out a few lines. Perform operations to inspect data\n",
    "#   types and look for instances of missing or possibly errant data.\n",
    "df = pd.read_csv('Database_No_show_appointments/noshowappointments-kagglev2-may-2016.csv')\n",
    "df.head(1)"
   ]
  },
  {
   "cell_type": "markdown",
   "metadata": {},
   "source": [
    "\n",
    "### Data Cleaning\n",
    "> First: We will drop some columns, (PatientId, AppointmentID, Neighbourhood, Scholarship)\n",
    "\n",
    "> Second: Rename some columns for eaiser access\n",
    "\n",
    "> Third: Change strings that represent datetime to datetime data types\n",
    "\n",
    "> Fourth: Create a new column, 'Days_Difference', to hold difference between Appointment day and Scheduled Day. We will be using that new column in our analysis.\n",
    "\n",
    " "
   ]
  },
  {
   "cell_type": "code",
   "execution_count": 375,
   "metadata": {},
   "outputs": [
    {
     "data": {
      "text/plain": [
       "765"
      ]
     },
     "execution_count": 375,
     "metadata": {},
     "output_type": "execute_result"
    }
   ],
   "source": [
    "# After discussing the structure of the data and any problems that need to be\n",
    "#   cleaned, perform those cleaning steps in the second part of this section.\n",
    "df.drop(['PatientId','AppointmentID','Neighbourhood' ,'Scholarship'],axis=1,inplace=True)\n",
    "df.rename(columns = {'ScheduledDay':'Scheduled_Day', 'AppointmentDay':'Appointment_Day', 'No-show':'No_show', 'Handcap':'Handicap'}, inplace = True)\n",
    "df['Scheduled_Day'] = pd.to_datetime(df['Scheduled_Day'])\n",
    "df['Appointment_Day'] = pd.to_datetime(df['Appointment_Day'])\n",
    "df['Days_Difference'] = abs((df['Appointment_Day'] - df['Scheduled_Day'])).dt.days\n",
    "df.dtypes\n",
    "sum(df.duplicated())"
   ]
  },
  {
   "cell_type": "markdown",
   "metadata": {},
   "source": [
    "> Here, we dropped duplicates"
   ]
  },
  {
   "cell_type": "code",
   "execution_count": 376,
   "metadata": {},
   "outputs": [
    {
     "data": {
      "text/html": [
       "<div>\n",
       "<style scoped>\n",
       "    .dataframe tbody tr th:only-of-type {\n",
       "        vertical-align: middle;\n",
       "    }\n",
       "\n",
       "    .dataframe tbody tr th {\n",
       "        vertical-align: top;\n",
       "    }\n",
       "\n",
       "    .dataframe thead th {\n",
       "        text-align: right;\n",
       "    }\n",
       "</style>\n",
       "<table border=\"1\" class=\"dataframe\">\n",
       "  <thead>\n",
       "    <tr style=\"text-align: right;\">\n",
       "      <th></th>\n",
       "      <th>Gender</th>\n",
       "      <th>Scheduled_Day</th>\n",
       "      <th>Appointment_Day</th>\n",
       "      <th>Age</th>\n",
       "      <th>Hipertension</th>\n",
       "      <th>Diabetes</th>\n",
       "      <th>Alcoholism</th>\n",
       "      <th>Handicap</th>\n",
       "      <th>SMS_received</th>\n",
       "      <th>No_show</th>\n",
       "      <th>Days_Difference</th>\n",
       "    </tr>\n",
       "  </thead>\n",
       "  <tbody>\n",
       "    <tr>\n",
       "      <th>110522</th>\n",
       "      <td>F</td>\n",
       "      <td>2016-05-03 09:15:35</td>\n",
       "      <td>2016-06-07</td>\n",
       "      <td>56</td>\n",
       "      <td>0</td>\n",
       "      <td>0</td>\n",
       "      <td>0</td>\n",
       "      <td>0</td>\n",
       "      <td>1</td>\n",
       "      <td>No</td>\n",
       "      <td>34</td>\n",
       "    </tr>\n",
       "    <tr>\n",
       "      <th>110523</th>\n",
       "      <td>F</td>\n",
       "      <td>2016-05-03 07:27:33</td>\n",
       "      <td>2016-06-07</td>\n",
       "      <td>51</td>\n",
       "      <td>0</td>\n",
       "      <td>0</td>\n",
       "      <td>0</td>\n",
       "      <td>0</td>\n",
       "      <td>1</td>\n",
       "      <td>No</td>\n",
       "      <td>34</td>\n",
       "    </tr>\n",
       "    <tr>\n",
       "      <th>110524</th>\n",
       "      <td>F</td>\n",
       "      <td>2016-04-27 16:03:52</td>\n",
       "      <td>2016-06-07</td>\n",
       "      <td>21</td>\n",
       "      <td>0</td>\n",
       "      <td>0</td>\n",
       "      <td>0</td>\n",
       "      <td>0</td>\n",
       "      <td>1</td>\n",
       "      <td>No</td>\n",
       "      <td>40</td>\n",
       "    </tr>\n",
       "    <tr>\n",
       "      <th>110525</th>\n",
       "      <td>F</td>\n",
       "      <td>2016-04-27 15:09:23</td>\n",
       "      <td>2016-06-07</td>\n",
       "      <td>38</td>\n",
       "      <td>0</td>\n",
       "      <td>0</td>\n",
       "      <td>0</td>\n",
       "      <td>0</td>\n",
       "      <td>1</td>\n",
       "      <td>No</td>\n",
       "      <td>40</td>\n",
       "    </tr>\n",
       "    <tr>\n",
       "      <th>110526</th>\n",
       "      <td>F</td>\n",
       "      <td>2016-04-27 13:30:56</td>\n",
       "      <td>2016-06-07</td>\n",
       "      <td>54</td>\n",
       "      <td>0</td>\n",
       "      <td>0</td>\n",
       "      <td>0</td>\n",
       "      <td>0</td>\n",
       "      <td>1</td>\n",
       "      <td>No</td>\n",
       "      <td>40</td>\n",
       "    </tr>\n",
       "  </tbody>\n",
       "</table>\n",
       "</div>"
      ],
      "text/plain": [
       "       Gender       Scheduled_Day Appointment_Day  Age  Hipertension  \\\n",
       "110522      F 2016-05-03 09:15:35      2016-06-07   56             0   \n",
       "110523      F 2016-05-03 07:27:33      2016-06-07   51             0   \n",
       "110524      F 2016-04-27 16:03:52      2016-06-07   21             0   \n",
       "110525      F 2016-04-27 15:09:23      2016-06-07   38             0   \n",
       "110526      F 2016-04-27 13:30:56      2016-06-07   54             0   \n",
       "\n",
       "        Diabetes  Alcoholism  Handicap  SMS_received No_show  Days_Difference  \n",
       "110522         0           0         0             1      No               34  \n",
       "110523         0           0         0             1      No               34  \n",
       "110524         0           0         0             1      No               40  \n",
       "110525         0           0         0             1      No               40  \n",
       "110526         0           0         0             1      No               40  "
      ]
     },
     "execution_count": 376,
     "metadata": {},
     "output_type": "execute_result"
    }
   ],
   "source": [
    "\n",
    "df.drop_duplicates()\n",
    "df.tail()"
   ]
  },
  {
   "cell_type": "markdown",
   "metadata": {},
   "source": [
    "> Here, dropped Ages that are less than zero, they are errors in the dataset"
   ]
  },
  {
   "cell_type": "code",
   "execution_count": 377,
   "metadata": {},
   "outputs": [],
   "source": [
    "df.drop(df[df['Age']<0].index, inplace = True)"
   ]
  },
  {
   "cell_type": "markdown",
   "metadata": {},
   "source": [
    "> Here, we removed outliers from 'Days_Difference', and 'Age' columns."
   ]
  },
  {
   "cell_type": "code",
   "execution_count": 378,
   "metadata": {},
   "outputs": [],
   "source": [
    "df['Days_Difference'] = df['Days_Difference'][~((df['Days_Difference']-df['Days_Difference'].mean()).abs() > 3*df['Days_Difference'].std())]\n",
    "df['Age'] = df['Age'][~((df['Age']-df['Age'].mean()).abs() > 3*df['Age'].std())]"
   ]
  },
  {
   "cell_type": "code",
   "execution_count": 379,
   "metadata": {},
   "outputs": [
    {
     "name": "stdout",
     "output_type": "stream",
     "text": [
      "Gender                0\n",
      "Scheduled_Day         0\n",
      "Appointment_Day       0\n",
      "Age                   5\n",
      "Hipertension          0\n",
      "Diabetes              0\n",
      "Alcoholism            0\n",
      "Handicap              0\n",
      "SMS_received          0\n",
      "No_show               0\n",
      "Days_Difference    2669\n",
      "dtype: int64\n"
     ]
    }
   ],
   "source": [
    "print(df.isna().sum())"
   ]
  },
  {
   "cell_type": "markdown",
   "metadata": {},
   "source": [
    "> Here, we dropped nulls that arose from removing outliers"
   ]
  },
  {
   "cell_type": "code",
   "execution_count": 380,
   "metadata": {},
   "outputs": [],
   "source": [
    "df.dropna(inplace = True)"
   ]
  },
  {
   "cell_type": "code",
   "execution_count": 381,
   "metadata": {},
   "outputs": [
    {
     "data": {
      "text/plain": [
       "No     86320\n",
       "Yes    21532\n",
       "Name: No_show, dtype: int64"
      ]
     },
     "execution_count": 381,
     "metadata": {},
     "output_type": "execute_result"
    }
   ],
   "source": [
    "df['No_show'].value_counts()"
   ]
  },
  {
   "cell_type": "code",
   "execution_count": 382,
   "metadata": {},
   "outputs": [
    {
     "data": {
      "text/plain": [
       "0    104516\n",
       "1      3336\n",
       "Name: Alcoholism, dtype: int64"
      ]
     },
     "execution_count": 382,
     "metadata": {},
     "output_type": "execute_result"
    }
   ],
   "source": [
    "df['Alcoholism'].value_counts()"
   ]
  },
  {
   "cell_type": "code",
   "execution_count": 383,
   "metadata": {},
   "outputs": [
    {
     "data": {
      "text/plain": [
       "0    100108\n",
       "1      7744\n",
       "Name: Diabetes, dtype: int64"
      ]
     },
     "execution_count": 383,
     "metadata": {},
     "output_type": "execute_result"
    }
   ],
   "source": [
    "df['Diabetes'].value_counts()"
   ]
  },
  {
   "cell_type": "code",
   "execution_count": 384,
   "metadata": {},
   "outputs": [
    {
     "data": {
      "text/plain": [
       "5"
      ]
     },
     "execution_count": 384,
     "metadata": {},
     "output_type": "execute_result"
    }
   ],
   "source": [
    "df['Handicap'].nunique()"
   ]
  },
  {
   "cell_type": "markdown",
   "metadata": {},
   "source": [
    "> Here we edited the values of Handicap to be 0s and 1s only"
   ]
  },
  {
   "cell_type": "code",
   "execution_count": 385,
   "metadata": {},
   "outputs": [
    {
     "name": "stderr",
     "output_type": "stream",
     "text": [
      "/opt/conda/lib/python3.6/site-packages/ipykernel_launcher.py:1: SettingWithCopyWarning: \n",
      "A value is trying to be set on a copy of a slice from a DataFrame\n",
      "\n",
      "See the caveats in the documentation: http://pandas.pydata.org/pandas-docs/stable/indexing.html#indexing-view-versus-copy\n",
      "  \"\"\"Entry point for launching an IPython kernel.\n",
      "/opt/conda/lib/python3.6/site-packages/ipykernel_launcher.py:2: SettingWithCopyWarning: \n",
      "A value is trying to be set on a copy of a slice from a DataFrame\n",
      "\n",
      "See the caveats in the documentation: http://pandas.pydata.org/pandas-docs/stable/indexing.html#indexing-view-versus-copy\n",
      "  \n",
      "/opt/conda/lib/python3.6/site-packages/ipykernel_launcher.py:3: SettingWithCopyWarning: \n",
      "A value is trying to be set on a copy of a slice from a DataFrame\n",
      "\n",
      "See the caveats in the documentation: http://pandas.pydata.org/pandas-docs/stable/indexing.html#indexing-view-versus-copy\n",
      "  This is separate from the ipykernel package so we can avoid doing imports until\n"
     ]
    },
    {
     "data": {
      "text/plain": [
       "0    105666\n",
       "1      2186\n",
       "Name: Handicap, dtype: int64"
      ]
     },
     "execution_count": 385,
     "metadata": {},
     "output_type": "execute_result"
    }
   ],
   "source": [
    "df['Handicap'][df['Handicap'] == 2]=1\n",
    "df['Handicap'][df['Handicap'] == 3]=1\n",
    "df['Handicap'][df['Handicap'] == 4]=1\n",
    "df.Handicap.value_counts()"
   ]
  },
  {
   "cell_type": "markdown",
   "metadata": {},
   "source": [
    "> Here, we changed No_show columns to 0s and 1s, and made it numeric"
   ]
  },
  {
   "cell_type": "code",
   "execution_count": 386,
   "metadata": {},
   "outputs": [
    {
     "name": "stderr",
     "output_type": "stream",
     "text": [
      "/opt/conda/lib/python3.6/site-packages/ipykernel_launcher.py:1: SettingWithCopyWarning: \n",
      "A value is trying to be set on a copy of a slice from a DataFrame\n",
      "\n",
      "See the caveats in the documentation: http://pandas.pydata.org/pandas-docs/stable/indexing.html#indexing-view-versus-copy\n",
      "  \"\"\"Entry point for launching an IPython kernel.\n",
      "/opt/conda/lib/python3.6/site-packages/ipykernel_launcher.py:2: SettingWithCopyWarning: \n",
      "A value is trying to be set on a copy of a slice from a DataFrame\n",
      "\n",
      "See the caveats in the documentation: http://pandas.pydata.org/pandas-docs/stable/indexing.html#indexing-view-versus-copy\n",
      "  \n"
     ]
    }
   ],
   "source": [
    "df['No_show'][df['No_show']=='No'] ='0'\n",
    "df['No_show'][df['No_show']=='Yes'] ='1'\n",
    "df['No_show'] = pd.to_numeric(df['No_show'])\n"
   ]
  },
  {
   "cell_type": "code",
   "execution_count": 389,
   "metadata": {},
   "outputs": [
    {
     "data": {
      "text/plain": [
       "0    86320\n",
       "1    21532\n",
       "Name: No_show, dtype: int64"
      ]
     },
     "execution_count": 389,
     "metadata": {},
     "output_type": "execute_result"
    }
   ],
   "source": [
    "\n",
    "df['No_show'].value_counts()"
   ]
  },
  {
   "cell_type": "code",
   "execution_count": 390,
   "metadata": {},
   "outputs": [
    {
     "data": {
      "text/plain": [
       "0    74083\n",
       "1    33769\n",
       "Name: SMS_received, dtype: int64"
      ]
     },
     "execution_count": 390,
     "metadata": {},
     "output_type": "execute_result"
    }
   ],
   "source": [
    "df['SMS_received'].value_counts()"
   ]
  },
  {
   "cell_type": "code",
   "execution_count": 391,
   "metadata": {},
   "outputs": [
    {
     "name": "stdout",
     "output_type": "stream",
     "text": [
      "Gender             0\n",
      "Scheduled_Day      0\n",
      "Appointment_Day    0\n",
      "Age                0\n",
      "Hipertension       0\n",
      "Diabetes           0\n",
      "Alcoholism         0\n",
      "Handicap           0\n",
      "SMS_received       0\n",
      "No_show            0\n",
      "Days_Difference    0\n",
      "dtype: int64\n"
     ]
    }
   ],
   "source": [
    "print(df.isna().sum())"
   ]
  },
  {
   "cell_type": "code",
   "execution_count": 392,
   "metadata": {},
   "outputs": [
    {
     "name": "stdout",
     "output_type": "stream",
     "text": [
      "<class 'pandas.core.frame.DataFrame'>\n",
      "Int64Index: 107852 entries, 0 to 110526\n",
      "Data columns (total 11 columns):\n",
      "Gender             107852 non-null object\n",
      "Scheduled_Day      107852 non-null datetime64[ns]\n",
      "Appointment_Day    107852 non-null datetime64[ns]\n",
      "Age                107852 non-null float64\n",
      "Hipertension       107852 non-null int64\n",
      "Diabetes           107852 non-null int64\n",
      "Alcoholism         107852 non-null int64\n",
      "Handicap           107852 non-null int64\n",
      "SMS_received       107852 non-null int64\n",
      "No_show            107852 non-null int64\n",
      "Days_Difference    107852 non-null float64\n",
      "dtypes: datetime64[ns](2), float64(2), int64(6), object(1)\n",
      "memory usage: 9.9+ MB\n"
     ]
    }
   ],
   "source": [
    "df.info()"
   ]
  },
  {
   "cell_type": "code",
   "execution_count": 393,
   "metadata": {},
   "outputs": [
    {
     "data": {
      "text/plain": [
       "0    86320\n",
       "1    21532\n",
       "Name: No_show, dtype: int64"
      ]
     },
     "execution_count": 393,
     "metadata": {},
     "output_type": "execute_result"
    }
   ],
   "source": [
    "df['No_show'].value_counts()"
   ]
  },
  {
   "cell_type": "code",
   "execution_count": 394,
   "metadata": {},
   "outputs": [
    {
     "name": "stdout",
     "output_type": "stream",
     "text": [
      "<class 'pandas.core.frame.DataFrame'>\n",
      "Int64Index: 86320 entries, 0 to 110526\n",
      "Data columns (total 11 columns):\n",
      "Gender             86320 non-null object\n",
      "Scheduled_Day      86320 non-null datetime64[ns]\n",
      "Appointment_Day    86320 non-null datetime64[ns]\n",
      "Age                86320 non-null float64\n",
      "Hipertension       86320 non-null int64\n",
      "Diabetes           86320 non-null int64\n",
      "Alcoholism         86320 non-null int64\n",
      "Handicap           86320 non-null int64\n",
      "SMS_received       86320 non-null int64\n",
      "No_show            86320 non-null int64\n",
      "Days_Difference    86320 non-null float64\n",
      "dtypes: datetime64[ns](2), float64(2), int64(6), object(1)\n",
      "memory usage: 7.9+ MB\n"
     ]
    }
   ],
   "source": [
    "df_show = df[df['No_show']==0]\n",
    "df_no = df[df['No_show']==1]\n",
    "df_show.info()"
   ]
  },
  {
   "cell_type": "markdown",
   "metadata": {},
   "source": [
    "<a id='eda'></a>\n",
    "## Exploratory Data Analysis\n",
    "\n",
    "> **Tip**: Now that you've trimmed and cleaned your data, you're ready to move on to exploration. **Compute statistics** and **create visualizations** with the goal of addressing the research questions that you posed in the Introduction section. You should compute the relevant statistics throughout the analysis when an inference is made about the data. Note that at least two or more kinds of plots should be created as part of the exploration, and you must  compare and show trends in the varied visualizations. \n",
    "\n",
    "\n",
    "\n",
    "> **Tip**: - Investigate the stated question(s) from multiple angles. It is recommended that you be systematic with your approach. Look at one variable at a time, and then follow it up by looking at relationships between variables. You should explore at least three variables in relation to the primary question. This can be an exploratory relationship between three variables of interest, or looking at how two independent variables relate to a single dependent variable of interest. Lastly, you  should perform both single-variable (1d) and multiple-variable (2d) explorations.\n",
    "\n",
    "\n",
    "### 1. Does Gender Affect Showing up For Appointments"
   ]
  },
  {
   "cell_type": "code",
   "execution_count": 395,
   "metadata": {},
   "outputs": [
    {
     "name": "stdout",
     "output_type": "stream",
     "text": [
      "80.255164034 79.9168500157\n",
      "F    55937\n",
      "M    30383\n",
      "Name: Gender, dtype: int64\n"
     ]
    }
   ],
   "source": [
    "Male_Show = df_show['Gender'].value_counts()[1]/np.count_nonzero(df['Gender']=='M')*100\n",
    "Female_Show = df_show['Gender'].value_counts()[0]/np.count_nonzero(df['Gender']=='F')*100\n",
    "print(Male_Show, Female_Show)\n",
    "print(df_show['Gender'].value_counts())"
   ]
  },
  {
   "cell_type": "code",
   "execution_count": 396,
   "metadata": {},
   "outputs": [
    {
     "name": "stdout",
     "output_type": "stream",
     "text": [
      "19.744835966 20.0831499843\n"
     ]
    }
   ],
   "source": [
    "Male_No_Show = df_no['Gender'].value_counts()[1]/np.count_nonzero(df['Gender']=='M')*100\n",
    "Female_No_Show = df_no['Gender'].value_counts()[0]/np.count_nonzero(df['Gender']=='F')*100\n",
    "print(Male_No_Show, Female_No_Show)\n"
   ]
  },
  {
   "cell_type": "code",
   "execution_count": 397,
   "metadata": {},
   "outputs": [
    {
     "data": {
      "image/png": "[encoded data removed]",
      "text/plain": [
       "<matplotlib.figure.Figure at 0x7fc0bdda15c0>"
      ]
     },
     "metadata": {
      "needs_background": "light"
     },
     "output_type": "display_data"
    }
   ],
   "source": [
    "labels = [\"Female\",\"Male\"]\n",
    "x = np.arange(len(labels))\n",
    "\n",
    "Gender_show = [Female_Show, Male_Show]\n",
    "Gender_no =[Female_No_Show, Male_No_Show]\n",
    "width = 0.35\n",
    "\n",
    "fig, ax = plt.subplots()\n",
    "rects1 = ax.bar(x - width/2, Gender_show, width, label='Show')\n",
    "rects2 = ax.bar(x + width/2, Gender_no, width, label='No-Show')\n",
    "\n",
    "ax.set_ylabel('Percentage')\n",
    "ax.set_title('Effect of Gender')\n",
    "ax.set_xticklabels(labels)\n",
    "ax.set_xticks(x)\n",
    "ax.legend()\n",
    "plt.xticks = labels\n",
    "fig.tight_layout()"
   ]
  },
  {
   "cell_type": "markdown",
   "metadata": {},
   "source": [
    "### No Significant Results Based on Gender\n"
   ]
  },
  {
   "cell_type": "markdown",
   "metadata": {},
   "source": [
    "### 2. Does Age Affect Showing up For Appointments"
   ]
  },
  {
   "cell_type": "code",
   "execution_count": 398,
   "metadata": {},
   "outputs": [
    {
     "data": {
      "text/plain": [
       "count    86320.000000\n",
       "mean        37.515443\n",
       "std         23.270751\n",
       "min          0.000000\n",
       "25%         18.000000\n",
       "50%         38.000000\n",
       "75%         56.000000\n",
       "max        102.000000\n",
       "Name: Age, dtype: float64"
      ]
     },
     "execution_count": 398,
     "metadata": {},
     "output_type": "execute_result"
    }
   ],
   "source": [
    "# Continue to explore the data to address your additional research\n",
    "#   questions. Add more headers as needed if you have more questions to\n",
    "#   investigate.\n",
    "df_show['Age'].describe()"
   ]
  },
  {
   "cell_type": "code",
   "execution_count": 399,
   "metadata": {},
   "outputs": [
    {
     "data": {
      "text/plain": [
       "count    21532.000000\n",
       "mean        34.022710\n",
       "std         21.775675\n",
       "min          0.000000\n",
       "25%         16.000000\n",
       "50%         32.000000\n",
       "75%         51.000000\n",
       "max         98.000000\n",
       "Name: Age, dtype: float64"
      ]
     },
     "execution_count": 399,
     "metadata": {},
     "output_type": "execute_result"
    }
   ],
   "source": [
    "df_no['Age'].describe()"
   ]
  },
  {
   "cell_type": "code",
   "execution_count": 400,
   "metadata": {},
   "outputs": [
    {
     "data": {
      "text/plain": [
       "count    107852.000000\n",
       "mean         36.818140\n",
       "std          23.022315\n",
       "min           0.000000\n",
       "25%          17.000000\n",
       "50%          37.000000\n",
       "75%          55.000000\n",
       "max         102.000000\n",
       "Name: Age, dtype: float64"
      ]
     },
     "execution_count": 400,
     "metadata": {},
     "output_type": "execute_result"
    }
   ],
   "source": [
    "df['Age'].describe()"
   ]
  },
  {
   "cell_type": "code",
   "execution_count": 401,
   "metadata": {},
   "outputs": [],
   "source": [
    "df['Age_Intervals'] = pd.cut(df['Age'], bins = [0,17,37,55,102], labels = ['x <= 17', '17 < x <= 37', '37 < x <= 55', '55 < x <= 102']);"
   ]
  },
  {
   "cell_type": "code",
   "execution_count": 402,
   "metadata": {},
   "outputs": [],
   "source": [
    "df_show = df[df['No_show']== 0]\n",
    "df_no = df[df['No_show']== 1]\n"
   ]
  },
  {
   "cell_type": "code",
   "execution_count": 403,
   "metadata": {},
   "outputs": [
    {
     "name": "stdout",
     "output_type": "stream",
     "text": [
      "77.8004246285 76.7370319296 80.6157832565 84.6960486322\n",
      "22292\n"
     ]
    }
   ],
   "source": [
    "Less_17_Show = df_show['Age_Intervals'].value_counts()[0]/np.count_nonzero(df['Age_Intervals']=='x <= 17')*100\n",
    "Less_37_Show = df_show['Age_Intervals'].value_counts()[1]/np.count_nonzero(df['Age_Intervals']=='17 < x <= 37')*100\n",
    "Less_55_Show = df_show['Age_Intervals'].value_counts()[2]/np.count_nonzero(df['Age_Intervals']=='37 < x <= 55')*100\n",
    "Less_102_Show = df_show['Age_Intervals'].value_counts()[3]/np.count_nonzero(df['Age_Intervals']=='55 < x <= 102')*100\n",
    "\n",
    "print(Less_17_Show, Less_37_Show, Less_55_Show, Less_102_Show)\n",
    "print(df_show['Age_Intervals'].value_counts()[3])"
   ]
  },
  {
   "cell_type": "code",
   "execution_count": 404,
   "metadata": {},
   "outputs": [
    {
     "name": "stdout",
     "output_type": "stream",
     "text": [
      "22.1995753715 23.2629680704 19.3842167435 15.3039513678\n",
      "5087\n",
      "0\n"
     ]
    }
   ],
   "source": [
    "Less_17_No_Show = df_no['Age_Intervals'].value_counts()[0]/np.count_nonzero(df['Age_Intervals']=='x <= 17')*100\n",
    "Less_37_No_Show = df_no['Age_Intervals'].value_counts()[1]/np.count_nonzero(df['Age_Intervals']=='17 < x <= 37')*100\n",
    "Less_55_No_Show = df_no['Age_Intervals'].value_counts()[2]/np.count_nonzero(df['Age_Intervals']=='37 < x <= 55')*100\n",
    "Less_102_No_Show = df_no['Age_Intervals'].value_counts()[3]/np.count_nonzero(df['Age_Intervals']=='55 < x <= 102')*100\n",
    "\n",
    "print(Less_17_No_Show, Less_37_No_Show, Less_55_No_Show, Less_102_No_Show)\n",
    "print(df_no['Age_Intervals'].value_counts()[2])\n",
    "print(np.count_nonzero(df['Age_Intervals']=='x <= 18'))"
   ]
  },
  {
   "cell_type": "code",
   "execution_count": 405,
   "metadata": {},
   "outputs": [
    {
     "data": {
      "image/png": "[encoded data removed]",
      "text/plain": [
       "<matplotlib.figure.Figure at 0x7fc0bd0e6860>"
      ]
     },
     "metadata": {
      "needs_background": "light"
     },
     "output_type": "display_data"
    }
   ],
   "source": [
    "labels = ['x <= 17', '17 < x <= 37', '37 < x <= 55', '55 < x <= 102']\n",
    "x = np.arange(len(labels))\n",
    "\n",
    "Age_show = [Less_17_Show, Less_37_Show, Less_55_Show, Less_102_Show]\n",
    "Age_no =[Less_17_No_Show, Less_37_No_Show, Less_55_No_Show, Less_102_No_Show]\n",
    "width = 0.35\n",
    "\n",
    "fig, ax = plt.subplots()\n",
    "rects1 = ax.bar(x - width/2, Age_show, width, label='Show')\n",
    "rects2 = ax.bar(x + width/2, Age_no, width, label='No-Show')\n",
    "\n",
    "ax.set_ylabel('Percentage')\n",
    "ax.set_title('Effect of Different Ages')\n",
    "ax.set_xticklabels(labels)\n",
    "ax.set_xticks(x)\n",
    "ax.legend()\n",
    "plt.xticks = labels\n",
    "figure = plt.gcf()\n",
    "figure.set_size_inches(7,5)\n",
    "fig.tight_layout()"
   ]
  },
  {
   "cell_type": "markdown",
   "metadata": {},
   "source": [
    "### No Singificant Results based on Age"
   ]
  },
  {
   "cell_type": "markdown",
   "metadata": {},
   "source": [
    "### 3. Does Hipertension Affect Showing up For Appointments"
   ]
  },
  {
   "cell_type": "code",
   "execution_count": 406,
   "metadata": {},
   "outputs": [
    {
     "name": "stdout",
     "output_type": "stream",
     "text": [
      "83.068508652 79.2931916023\n",
      "17618\n"
     ]
    }
   ],
   "source": [
    "Hipertension_Show = df_show['Hipertension'].value_counts()[1]/np.count_nonzero(df['Hipertension']==1)*100\n",
    "No_Hipertension_Show = df_show['Hipertension'].value_counts()[0]/np.count_nonzero(df['Hipertension']==0)*100\n",
    "print(Hipertension_Show, No_Hipertension_Show)\n",
    "print(df_show['Hipertension'].value_counts()[1])"
   ]
  },
  {
   "cell_type": "code",
   "execution_count": 407,
   "metadata": {},
   "outputs": [
    {
     "name": "stdout",
     "output_type": "stream",
     "text": [
      "16.931491348 20.7068083977\n"
     ]
    }
   ],
   "source": [
    "Hipertension_No_Show = df_no['Hipertension'].value_counts()[1]/np.count_nonzero(df['Hipertension']==1)*100\n",
    "No_Hipertension_No_Show = df_no['Hipertension'].value_counts()[0]/np.count_nonzero(df['Hipertension']==0)*100\n",
    "print(Hipertension_No_Show, No_Hipertension_No_Show)\n"
   ]
  },
  {
   "cell_type": "code",
   "execution_count": 408,
   "metadata": {},
   "outputs": [
    {
     "data": {
      "image/png": "[encoded data removed]",
      "text/plain": [
       "<matplotlib.figure.Figure at 0x7fc0bd0354a8>"
      ]
     },
     "metadata": {
      "needs_background": "light"
     },
     "output_type": "display_data"
    }
   ],
   "source": [
    "labels = [\"No Hipertension\",\"Hipertension\"]\n",
    "x = np.arange(len(labels))\n",
    "\n",
    "Hipertension_show = [No_Hipertension_Show, Hipertension_Show]\n",
    "Hipertension_no =[No_Hipertension_No_Show, Hipertension_No_Show]\n",
    "width = 0.35\n",
    "\n",
    "fig, ax = plt.subplots()\n",
    "rects1 = ax.bar(x - width/2, Hipertension_show, width, label='Show')\n",
    "rects2 = ax.bar(x + width/2, Hipertension_no, width, label='No-Show')\n",
    "\n",
    "ax.set_ylabel('Percentage')\n",
    "ax.set_title('Effect of Having Hipertension')\n",
    "ax.set_xticklabels(labels)\n",
    "ax.set_xticks(x)\n",
    "ax.legend()\n",
    "plt.xticks = labels\n",
    "fig.tight_layout()"
   ]
  },
  {
   "cell_type": "markdown",
   "metadata": {},
   "source": [
    "### 4. Does Being Diabetic Affect Showing up For Appointments"
   ]
  },
  {
   "cell_type": "code",
   "execution_count": 409,
   "metadata": {},
   "outputs": [
    {
     "name": "stdout",
     "output_type": "stream",
     "text": [
      "82.2830578512 79.8617493107\n",
      "6372\n"
     ]
    }
   ],
   "source": [
    "Diabetes_Show = df_show['Diabetes'].value_counts()[1]/np.count_nonzero(df['Diabetes']==1)*100\n",
    "No_Diabetes_Show = df_show['Diabetes'].value_counts()[0]/np.count_nonzero(df['Diabetes']==0)*100\n",
    "print(Diabetes_Show, No_Diabetes_Show)\n",
    "print(df_show['Diabetes'].value_counts()[1])"
   ]
  },
  {
   "cell_type": "code",
   "execution_count": 410,
   "metadata": {},
   "outputs": [
    {
     "name": "stdout",
     "output_type": "stream",
     "text": [
      "17.7169421488 20.1382506893\n"
     ]
    }
   ],
   "source": [
    "Diabetes_No_Show = df_no['Diabetes'].value_counts()[1]/np.count_nonzero(df['Diabetes']==1)*100\n",
    "No_Diabetes_No_Show = df_no['Diabetes'].value_counts()[0]/np.count_nonzero(df['Diabetes']==0)*100\n",
    "print(Diabetes_No_Show, No_Diabetes_No_Show)\n"
   ]
  },
  {
   "cell_type": "code",
   "execution_count": 411,
   "metadata": {},
   "outputs": [
    {
     "data": {
      "image/png": "[encoded data removed]",
      "text/plain": [
       "<matplotlib.figure.Figure at 0x7fc0bdf8f278>"
      ]
     },
     "metadata": {
      "needs_background": "light"
     },
     "output_type": "display_data"
    }
   ],
   "source": [
    "labels = [\"No Diabetes\",\"Diabetes\"]\n",
    "x = np.arange(len(labels))\n",
    "\n",
    "Diabetes_show = [No_Diabetes_Show, Diabetes_Show]\n",
    "Diabetes_no =[No_Diabetes_No_Show, Diabetes_No_Show]\n",
    "width = 0.35\n",
    "\n",
    "fig, ax = plt.subplots()\n",
    "rects1 = ax.bar(x - width/2, Diabetes_show, width, label='Show')\n",
    "rects2 = ax.bar(x + width/2, Diabetes_no, width, label='No-Show')\n",
    "\n",
    "ax.set_ylabel('Percentage')\n",
    "ax.set_title('Effect of Being Diabetic')\n",
    "ax.set_xticklabels(labels)\n",
    "ax.set_xticks(x)\n",
    "ax.legend()\n",
    "plt.xticks = labels\n",
    "fig.tight_layout()"
   ]
  },
  {
   "cell_type": "markdown",
   "metadata": {},
   "source": [
    "### 5. Does Difference in Days Affect Showing up For Appointments\n",
    "<p><i>Diffence Between Appointment Day And Scheduled Day </i></p>"
   ]
  },
  {
   "cell_type": "code",
   "execution_count": 412,
   "metadata": {},
   "outputs": [
    {
     "data": {
      "text/plain": [
       "count    107852.000000\n",
       "mean          8.026963\n",
       "std          11.328743\n",
       "min           0.000000\n",
       "25%           0.000000\n",
       "50%           3.000000\n",
       "75%          13.000000\n",
       "max          54.000000\n",
       "Name: Days_Difference, dtype: float64"
      ]
     },
     "execution_count": 412,
     "metadata": {},
     "output_type": "execute_result"
    }
   ],
   "source": [
    "df['Days_Difference'].describe()"
   ]
  },
  {
   "cell_type": "code",
   "execution_count": 413,
   "metadata": {},
   "outputs": [],
   "source": [
    "df['Days_Difference_Intervals'] = pd.cut(df['Days_Difference'], bins = [-1,0,3,13,54], labels = ['x = 0', '1 <= x <= 3', '3 < x <= 13', '13 < x <= 54']);"
   ]
  },
  {
   "cell_type": "code",
   "execution_count": 414,
   "metadata": {},
   "outputs": [
    {
     "name": "stdout",
     "output_type": "stream",
     "text": [
      "AxesSubplot(0.125,0.125;0.775x0.755)\n"
     ]
    },
    {
     "data": {
      "image/png": "[encoded data removed]",
      "text/plain": [
       "<matplotlib.figure.Figure at 0x7fc0bdef0cf8>"
      ]
     },
     "metadata": {
      "needs_background": "light"
     },
     "output_type": "display_data"
    }
   ],
   "source": [
    "print(df['Days_Difference'].plot.hist(bins=12, alpha=0.5))"
   ]
  },
  {
   "cell_type": "code",
   "execution_count": 415,
   "metadata": {},
   "outputs": [
    {
     "name": "stdout",
     "output_type": "stream",
     "text": [
      "<class 'pandas.core.frame.DataFrame'>\n",
      "Int64Index: 107852 entries, 0 to 110526\n",
      "Data columns (total 13 columns):\n",
      "Gender                       107852 non-null object\n",
      "Scheduled_Day                107852 non-null datetime64[ns]\n",
      "Appointment_Day              107852 non-null datetime64[ns]\n",
      "Age                          107852 non-null float64\n",
      "Hipertension                 107852 non-null int64\n",
      "Diabetes                     107852 non-null int64\n",
      "Alcoholism                   107852 non-null int64\n",
      "Handicap                     107852 non-null int64\n",
      "SMS_received                 107852 non-null int64\n",
      "No_show                      107852 non-null int64\n",
      "Days_Difference              107852 non-null float64\n",
      "Age_Intervals                104394 non-null category\n",
      "Days_Difference_Intervals    107852 non-null category\n",
      "dtypes: category(2), datetime64[ns](2), float64(2), int64(6), object(1)\n",
      "memory usage: 10.1+ MB\n"
     ]
    }
   ],
   "source": [
    "df.info()"
   ]
  },
  {
   "cell_type": "code",
   "execution_count": 416,
   "metadata": {},
   "outputs": [
    {
     "data": {
      "text/plain": [
       "<matplotlib.axes._subplots.AxesSubplot at 0x7fc0bc69bd30>"
      ]
     },
     "execution_count": 416,
     "metadata": {},
     "output_type": "execute_result"
    },
    {
     "data": {
      "image/png": "[encoded data removed]",
      "text/plain": [
       "<matplotlib.figure.Figure at 0x7fc0be03ba58>"
      ]
     },
     "metadata": {
      "needs_background": "light"
     },
     "output_type": "display_data"
    }
   ],
   "source": [
    "df.boxplot(figsize = (10,10))"
   ]
  },
  {
   "cell_type": "code",
   "execution_count": 417,
   "metadata": {},
   "outputs": [
    {
     "name": "stdout",
     "output_type": "stream",
     "text": [
      "count    107852.000000\n",
      "mean          8.026963\n",
      "std          11.328743\n",
      "min           0.000000\n",
      "25%           0.000000\n",
      "50%           3.000000\n",
      "75%          13.000000\n",
      "max          54.000000\n",
      "Name: Days_Difference, dtype: float64\n"
     ]
    },
    {
     "data": {
      "text/plain": [
       "86320"
      ]
     },
     "execution_count": 417,
     "metadata": {},
     "output_type": "execute_result"
    }
   ],
   "source": [
    "df_show = df[df['No_show']==0]\n",
    "df_no = df[df['No_show']==1]\n",
    "print(df['Days_Difference'].describe())\n",
    "sum(df_show['Days_Difference_Intervals'].value_counts())"
   ]
  },
  {
   "cell_type": "code",
   "execution_count": 418,
   "metadata": {},
   "outputs": [
    {
     "name": "stdout",
     "output_type": "stream",
     "text": [
      "93.3636405172 76.4199539108 71.7602903572 66.8992742643\n",
      "17399\n"
     ]
    }
   ],
   "source": [
    "Equal_0_Show = df_show['Days_Difference_Intervals'].value_counts()[0]/np.count_nonzero(df['Days_Difference_Intervals']=='x = 0')*100\n",
    "Less_3_Show = df_show['Days_Difference_Intervals'].value_counts()[1]/np.count_nonzero(df['Days_Difference_Intervals']=='1 <= x <= 3')*100\n",
    "Less_13_Show = df_show['Days_Difference_Intervals'].value_counts()[2]/np.count_nonzero(df['Days_Difference_Intervals']=='3 < x <= 13')*100\n",
    "Less_54_Show = df_show['Days_Difference_Intervals'].value_counts()[3]/np.count_nonzero(df['Days_Difference_Intervals']=='13 < x <= 54')*100\n",
    "\n",
    "print(Equal_0_Show, Less_3_Show, Less_13_Show, Less_54_Show)\n",
    "print(df_show['Days_Difference_Intervals'].value_counts()[2])"
   ]
  },
  {
   "cell_type": "code",
   "execution_count": 419,
   "metadata": {},
   "outputs": [
    {
     "name": "stdout",
     "output_type": "stream",
     "text": [
      "6.6363594828 23.5800460892 28.2397096428 33.1007257357\n",
      "13 < x <= 54    8301\n",
      "3 < x <= 13     6847\n",
      "1 <= x <= 3     3479\n",
      "x = 0           2905\n",
      "Name: Days_Difference_Intervals, dtype: int64\n",
      "43774\n"
     ]
    }
   ],
   "source": [
    "Equal_0_No_Show = df_no['Days_Difference_Intervals'].value_counts()[0]/np.count_nonzero(df['Days_Difference_Intervals']=='x = 0')*100\n",
    "Less_3_No_Show = df_no['Days_Difference_Intervals'].value_counts()[1]/np.count_nonzero(df['Days_Difference_Intervals']=='1 <= x <= 3')*100\n",
    "Less_13_No_Show = df_no['Days_Difference_Intervals'].value_counts()[2]/np.count_nonzero(df['Days_Difference_Intervals']=='3 < x <= 13')*100\n",
    "Less_54_No_Show = df_no['Days_Difference_Intervals'].value_counts()[3]/np.count_nonzero(df['Days_Difference_Intervals']=='13 < x <= 54')*100\n",
    "\n",
    "print(Equal_0_No_Show, Less_3_No_Show, Less_13_No_Show, Less_54_No_Show)\n",
    "print(df_no['Days_Difference_Intervals'].value_counts())\n",
    "print(np.count_nonzero(df['Days_Difference_Intervals']=='x = 0'))"
   ]
  },
  {
   "cell_type": "code",
   "execution_count": 420,
   "metadata": {},
   "outputs": [
    {
     "data": {
      "image/png": "[encoded data removed]",
      "text/plain": [
       "<matplotlib.figure.Figure at 0x7fc0bddaa7b8>"
      ]
     },
     "metadata": {
      "needs_background": "light"
     },
     "output_type": "display_data"
    }
   ],
   "source": [
    "labels = ['x = 0', '1 < x <= 3', '3 < x <= 13', '13 < x <= 54']\n",
    "x = np.arange(len(labels))\n",
    "\n",
    "Age_show = [Equal_0_Show, Less_3_Show, Less_13_Show, Less_54_Show]\n",
    "Age_no =[Equal_0_No_Show, Less_3_No_Show, Less_13_No_Show, Less_54_No_Show]\n",
    "width = 0.35\n",
    "\n",
    "fig, ax = plt.subplots()\n",
    "rects1 = ax.bar(x - width/2, Age_show, width, label='Show')\n",
    "rects2 = ax.bar(x + width/2, Age_no, width, label='No-Show')\n",
    "\n",
    "ax.set_ylabel('Percentage')\n",
    "ax.set_title('Effect of Difference In Days')\n",
    "ax.set_xticklabels(labels)\n",
    "ax.set_xticks(x)\n",
    "ax.legend()\n",
    "plt.xticks = labels\n",
    "figure = plt.gcf()\n",
    "figure.set_size_inches(7,5)\n",
    "fig.tight_layout()"
   ]
  },
  {
   "cell_type": "markdown",
   "metadata": {},
   "source": [
    "### 6. Does Alcolholism Affect Showing up For Appointments"
   ]
  },
  {
   "cell_type": "code",
   "execution_count": 421,
   "metadata": {},
   "outputs": [
    {
     "name": "stdout",
     "output_type": "stream",
     "text": [
      "79.8860911271 80.0403765931\n",
      "2665\n"
     ]
    }
   ],
   "source": [
    "Alcoholist_Show = df_show['Alcoholism'].value_counts()[1]/np.count_nonzero(df['Alcoholism']==1)*100\n",
    "Not_Alcoholis_Show = df_show['Alcoholism'].value_counts()[0]/np.count_nonzero(df['Alcoholism']==0)*100\n",
    "print(Alcoholist_Show, Not_Alcoholis_Show)\n",
    "print(df_show['Alcoholism'].value_counts()[1])"
   ]
  },
  {
   "cell_type": "code",
   "execution_count": 422,
   "metadata": {},
   "outputs": [
    {
     "name": "stdout",
     "output_type": "stream",
     "text": [
      "20.1139088729 19.9596234069\n"
     ]
    }
   ],
   "source": [
    "Alcoholist_No_Show = df_no['Alcoholism'].value_counts()[1]/np.count_nonzero(df['Alcoholism']==1)*100\n",
    "Not_Alcoholist_No_Show = df_no['Alcoholism'].value_counts()[0]/np.count_nonzero(df['Alcoholism']==0)*100\n",
    "print(Alcoholist_No_Show, Not_Alcoholist_No_Show)\n"
   ]
  },
  {
   "cell_type": "code",
   "execution_count": 423,
   "metadata": {},
   "outputs": [
    {
     "data": {
      "image/png": "[encoded data removed]",
      "text/plain": [
       "<matplotlib.figure.Figure at 0x7fc0c47d0e48>"
      ]
     },
     "metadata": {
      "needs_background": "light"
     },
     "output_type": "display_data"
    }
   ],
   "source": [
    "labels = [\"Not Alcohoist\",\"Alcohoist\"]\n",
    "x = np.arange(len(labels))\n",
    "\n",
    "Alcohol_show = [Not_Alcoholis_Show, Alcoholist_Show]\n",
    "Alcohol_no =[Not_Alcoholist_No_Show, Alcoholist_No_Show]\n",
    "width = 0.35\n",
    "\n",
    "fig, ax = plt.subplots()\n",
    "rects1 = ax.bar(x - width/2, Alcohol_show, width, label='Show')\n",
    "rects2 = ax.bar(x + width/2, Alcohol_no, width, label='No-Show')\n",
    "\n",
    "ax.set_ylabel('Percentage')\n",
    "ax.set_title('Effect of Alcoholism')\n",
    "ax.set_xticklabels(labels)\n",
    "ax.set_xticks(x)\n",
    "ax.legend()\n",
    "plt.xticks = labels\n",
    "fig.tight_layout()"
   ]
  },
  {
   "cell_type": "markdown",
   "metadata": {},
   "source": [
    "### 7. Does Receiving an SMS Affect Showing up For Appointments"
   ]
  },
  {
   "cell_type": "code",
   "execution_count": 424,
   "metadata": {},
   "outputs": [
    {
     "name": "stdout",
     "output_type": "stream",
     "text": [
      "72.3711095976 83.5292847212\n",
      "24439\n"
     ]
    }
   ],
   "source": [
    "Received_SMS_Show = df_show['SMS_received'].value_counts()[1]/np.count_nonzero(df['SMS_received']==1)*100\n",
    "No_Received_Show = df_show['SMS_received'].value_counts()[0]/np.count_nonzero(df['SMS_received']==0)*100\n",
    "print(Received_SMS_Show, No_Received_Show)\n",
    "print(df_show['SMS_received'].value_counts()[1])\n"
   ]
  },
  {
   "cell_type": "code",
   "execution_count": 425,
   "metadata": {},
   "outputs": [
    {
     "name": "stdout",
     "output_type": "stream",
     "text": [
      "27.6288904024 16.4707152788\n"
     ]
    }
   ],
   "source": [
    "Received_SMS_No_Show = df_no['SMS_received'].value_counts()[1]/np.count_nonzero(df['SMS_received']==1)*100\n",
    "No_Received_No_Show = df_no['SMS_received'].value_counts()[0]/np.count_nonzero(df['SMS_received']==0)*100\n",
    "print(Received_SMS_No_Show, No_Received_No_Show)\n"
   ]
  },
  {
   "cell_type": "code",
   "execution_count": 426,
   "metadata": {},
   "outputs": [
    {
     "data": {
      "image/png": "[encoded data removed]",
      "text/plain": [
       "<matplotlib.figure.Figure at 0x7fc0c46d36a0>"
      ]
     },
     "metadata": {
      "needs_background": "light"
     },
     "output_type": "display_data"
    }
   ],
   "source": [
    "labels = [\"Didn't Receieve Messages\",\"Receieved Messages\"]\n",
    "x = np.arange(len(labels))\n",
    "\n",
    "SMS_show = [No_Received_Show, Received_SMS_Show]\n",
    "SMS_no =[No_Received_No_Show, Received_SMS_No_Show]\n",
    "width = 0.35\n",
    "\n",
    "fig, ax = plt.subplots()\n",
    "rects1 = ax.bar(x - width/2, SMS_show, width, label='Show')\n",
    "rects2 = ax.bar(x + width/2, SMS_no, width, label='No-Show')\n",
    "\n",
    "ax.set_ylabel('Percentage')\n",
    "ax.set_title('Effect of Receiving SMS')\n",
    "ax.set_xticklabels(labels)\n",
    "ax.set_xticks(x)\n",
    "ax.legend()\n",
    "plt.xticks = labels\n",
    "fig.tight_layout()"
   ]
  },
  {
   "cell_type": "markdown",
   "metadata": {},
   "source": [
    "### Need To Send More SMS To Patients\n",
    "### The Majority of Those Who Showed Up Received No Messages At All"
   ]
  },
  {
   "cell_type": "markdown",
   "metadata": {},
   "source": [
    "### 8. Does Having a Handicap Affect Showing Up For Appointments"
   ]
  },
  {
   "cell_type": "code",
   "execution_count": 343,
   "metadata": {},
   "outputs": [
    {
     "name": "stdout",
     "output_type": "stream",
     "text": [
      "82.2506861848 79.9897791153\n",
      "1798\n"
     ]
    }
   ],
   "source": [
    "Handicapped_Show = df_show['Handicap'].value_counts()[1]/np.count_nonzero(df['Handicap']==1)*100\n",
    "Non_Handicapped_Show = df_show['Handicap'].value_counts()[0]/np.count_nonzero(df['Handicap']==0)*100\n",
    "print(Handicapped_Show, Non_Handicapped_Show)\n",
    "print(df_show['Handicap'].value_counts()[1])\n"
   ]
  },
  {
   "cell_type": "code",
   "execution_count": 344,
   "metadata": {},
   "outputs": [
    {
     "name": "stdout",
     "output_type": "stream",
     "text": [
      "17.7493138152 20.0102208847\n"
     ]
    }
   ],
   "source": [
    "Handicapped_No_Show = df_no['Handicap'].value_counts()[1]/np.count_nonzero(df['Handicap']==1)*100\n",
    "Non_Handicapped_No_Show = df_no['Handicap'].value_counts()[0]/np.count_nonzero(df['Handicap']==0)*100\n",
    "print(Handicapped_No_Show, Non_Handicapped_No_Show)\n"
   ]
  },
  {
   "cell_type": "code",
   "execution_count": 345,
   "metadata": {},
   "outputs": [
    {
     "data": {
      "image/png": "[encoded data removed]",
      "text/plain": [
       "<matplotlib.figure.Figure at 0x7fc0bdd70940>"
      ]
     },
     "metadata": {
      "needs_background": "light"
     },
     "output_type": "display_data"
    }
   ],
   "source": [
    "#(df_show['Handicap'].value_counts()/total_show).plot(kind='bar',width =0.2 ,alpha=0.5, color= 'green', label='show', position = 0)\n",
    "#(df_no['Handicap'].value_counts()/total_noShow).plot(kind='bar',width = 0.2 ,alpha=0.5, color= 'red', label='no_show', position = 1)\n",
    "#plt.grid(True)\n",
    "#plt.legend()\n",
    "labels = ['Not Handicapped','Handicapped']\n",
    "x = np.arange(len(labels))\n",
    "\n",
    "Handicapped_show = [Non_Handicapped_Show, Handicapped_Show]\n",
    "Handicapped_no =[Non_Handicapped_No_Show, Handicapped_No_Show]\n",
    "width = 0.35\n",
    "\n",
    "fig, ax = plt.subplots()\n",
    "rects1 = ax.bar(x - width/2, Handicapped_show, width, label='Show')\n",
    "rects2 = ax.bar(x + width/2, Handicapped_no, width, label='No-Show')\n",
    "\n",
    "ax.set_ylabel('Percentage')\n",
    "ax.set_title('Effect of Being Handicapped')\n",
    "ax.set_xticklabels(labels)\n",
    "ax.set_xticks(x)\n",
    "ax.legend()\n",
    "plt.xticks = labels\n",
    "fig.tight_layout()"
   ]
  },
  {
   "cell_type": "markdown",
   "metadata": {},
   "source": [
    "### 9. Effect of Age and Alcholism on Showing up For Appointments"
   ]
  },
  {
   "cell_type": "code",
   "execution_count": 471,
   "metadata": {},
   "outputs": [
    {
     "name": "stdout",
     "output_type": "stream",
     "text": [
      "0.231892944741\n",
      "0.269299820467\n"
     ]
    },
    {
     "data": {
      "image/png": "[encoded data removed]",
      "text/plain": [
       "<matplotlib.figure.Figure at 0x7fc0bd15e7f0>"
      ]
     },
     "metadata": {
      "needs_background": "light"
     },
     "output_type": "display_data"
    }
   ],
   "source": [
    "labels = ['x <= 17', '17 < x <= 37', '37 < x <= 55', '55 < x <= 102']\n",
    "x = np.arange(len(labels))\n",
    "\n",
    "No_Alcohol = df.groupby(['Age_Intervals', 'Alcoholism'])['No_show'].mean()[::2]*100\n",
    "Alcohol  = df.groupby(['Age_Intervals', 'Alcoholism'])['No_show'].mean()[1::2]*100\n",
    "width = 0.35\n",
    "\n",
    "fig, ax = plt.subplots()\n",
    "rects1 = ax.bar(x - width/2, No_Alcohol, width, label='No Alcohol')\n",
    "rects2 = ax.bar(x + width/2, Alcohol, width, label='Alcohol')\n",
    "\n",
    "ax.set_ylabel('Percentage of No-Show Cases')\n",
    "ax.set_title('Age, Alcoholism Effect on not Showing up')\n",
    "ax.set_xticklabels(labels)\n",
    "ax.set_xticks(x)\n",
    "ax.legend()\n",
    "ax.set_yticks(np.arange(0, 55, 5))\n",
    "plt.xticks = labels\n",
    "fig.tight_layout()\n",
    "print(df.groupby(['Age_Intervals', 'Alcoholism'])['No_show'].mean()[2])\n",
    "print(df.groupby(['Age_Intervals', 'Alcoholism'])['No_show'].mean()[3])"
   ]
  },
  {
   "cell_type": "markdown",
   "metadata": {},
   "source": [
    "<a id='conclusions'></a>\n",
    "## Conclusions\n",
    "\n",
    "> The Questions study the effect of different variables on whether a person will show up for appointments.\n",
    "\n",
    "> 1. Gender: No Singificant Results Based on Gender: 80.3% of Females showed up while 79.9% of Males showed up\n",
    "\n",
    "> 2. Age: Results showed that 77.8% of new-borns to 17 years of age show up for appointments, while that percentage decreased to 76.7% among 18 year-olds to 37 year-olds, then increased to around 80.6% for those between 37 and 54 years of age, then further increased to 84.7% for those between 55 and 102 years of age.\n",
    "    This shows that those in 20s and 30s show up less for appointments, probably because of some busy lifestyles, while senior citizens are the group with the highest likelihood of showing up.\n",
    "    \n",
    "> 3. Hipertension: Results showed that those suffering from hipertension are more likely to show up for appointments with 83% versus 79% for those who suffer no hipertension\n",
    "\n",
    "> 4. Diabetes: Results showed that those suffering from Diabetes are more likely to show up for appointments with 82.3% versus 79.9% for those who suffer no Diabetes\n",
    "\n",
    "> 5. Days Difference (between scheduled day and actual appointment day):\n",
    "Results showed that 93.4% of those who have their actual appointment day on same day as scheduled, show up for appointments, while 76.4% of those who have up to 3 days difference show up, this further decreases to be 71.8% for those who have up to 17 days difference, to finally reach 66.9% for those who have up to 54 days.\n",
    "\n",
    "> 6. Alcoholism:  Results showed that Alcoholist are more likely to not show up for appointments with 79.9% versus 80.5% for non-Alocholists, but results aren't significant with this factor only.\n",
    "\n",
    "> 7. SMS: Results showed that those who recieve one or more SMS are more likely to not show up for appointments with 72.4% versus 73.5% for those who received no SMS\n",
    "\n",
    "> 8. Handicap: Results showed that those suffering from a  Handicap are more likely to show up for appointments with 82.3% versus 80% for those who suffer no Handicap\n",
    "\n",
    "> 9. Age, Alcoholism Effect on No-Show: By comparing Alcoholism for different groups of people based on age, we can see a higher significance for use of Alcohol on each age group. 50% of Alcolhol users below 17 years old don't show up for appointments, versus only 23% on non Alcoholists of same group.\n",
    "This Difference decreases gradually as age group gets older, for whom using alcohol is more normalized, so its significance on character decreases, for instance it is 26% versus 23% in the next age group and even further decreases later.\n",
    "We can say that Alcoholism is a major factor for young persons.\n",
    "\n",
    "## Submitting your Project \n",
    "\n",
    "> **Tip**: Before you submit your project, you need to create a .html or .pdf version of this notebook in the workspace here. To do that, run the code cell below. If it worked correctly, you should get a return code of 0, and you should see the generated .html file in the workspace directory (click on the orange Jupyter icon in the upper left).\n",
    "\n",
    "> **Tip**: Alternatively, you can download this report as .html via the **File** > **Download as** submenu, and then manually upload it into the workspace directory by clicking on the orange Jupyter icon in the upper left, then using the Upload button.\n",
    "\n",
    "> **Tip**: Once you've done this, you can submit your project by clicking on the \"Submit Project\" button in the lower right here. This will create and submit a zip file with this .ipynb doc and the .html or .pdf version you created. Congratulations!"
   ]
  },
  {
   "cell_type": "code",
   "execution_count": 473,
   "metadata": {},
   "outputs": [
    {
     "data": {
      "text/plain": [
       "0"
      ]
     },
     "execution_count": 473,
     "metadata": {},
     "output_type": "execute_result"
    }
   ],
   "source": [
    "from subprocess import call\n",
    "call(['python', '-m', 'nbconvert', 'Investigate_a_Dataset.ipynb'])"
   ]
  },
  {
   "cell_type": "code",
   "execution_count": null,
   "metadata": {},
   "outputs": [],
   "source": []
  }
 ],
 "metadata": {
  "kernelspec": {
   "display_name": "Python 3",
   "language": "python",
   "name": "python3"
  },
  "language_info": {
   "codemirror_mode": {
    "name": "ipython",
    "version": 3
   },
   "file_extension": ".py",
   "mimetype": "text/x-python",
   "name": "python",
   "nbconvert_exporter": "python",
   "pygments_lexer": "ipython3",
   "version": "3.6.3"
  }
 },
 "nbformat": 4,
 "nbformat_minor": 2
}
